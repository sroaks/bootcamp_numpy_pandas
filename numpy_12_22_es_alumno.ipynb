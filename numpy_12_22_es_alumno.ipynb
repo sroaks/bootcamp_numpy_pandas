{
 "cells": [
  {
   "cell_type": "markdown",
   "metadata": {},
   "source": [
    "# Introducción a NumPy"
   ]
  },
  {
   "cell_type": "markdown",
   "metadata": {},
   "source": [
    "Numpy es una potente librería para realizar operaciones científicas y matemáticas en Python. Es ampliamente utilizada en el mundo de la ciencia de datos y el aprendizaje automático."
   ]
  },
  {
   "cell_type": "markdown",
   "metadata": {},
   "source": [
    "Numpy nos proporciona un tipo de datos llamado array, que es una estructura de datos que nos permite almacenar y manipular datos de forma eficiente para trabajar con grandes cantidades de datos.\n",
    "\n",
    "Numpy nos proporciona tambien una amplia colección de funciones matemáticas y estadísticas para trabajar con arrays, que están implementadas en C, lo que las hace muy eficientes. Esto hace que sea mucho más ráìdo realizar operaciones con arrays que con las listas de Python. Numpy tambien soporta operaciones vectorizadas, lo que significa que podemos realizar operaciones sobre arrays sin necesidad de utilizar bucles, aumentando la eficiencia de nuestro código aún más.\n",
    "\n",
    "Numpy es una librería open source, lo que significa que la podemos obtener de forma gratuita utilizarla en nuestros proyectos. Esto hace que sea una herramienta muy popular entre los científicos de datos y los desarrolladores de software."
   ]
  },
  {
   "cell_type": "markdown",
   "metadata": {},
   "source": [
    "## Numpy Arrays (ndarray)"
   ]
  },
  {
   "cell_type": "markdown",
   "metadata": {},
   "source": [
    "Los arrays de Numpy son mucho más eficientes que las listas de Python para almacenar y manipular datos.\n",
    "\n",
    "1. Los arrays de Numpy son homogéneos, esto significa que todos los elementos de la array deben ser del mismo tipo, al contrario de las listas de Python que pueden contener elementos de diferentes tipos. Esto hace que los arrays de Numpy puedan almacenar datos de una forma más compacta, lo que los hace más eficientes, ya que conoce de antemano el tipo de datos que va a utilizar.\n",
    "\n",
    "2. Los arrays de Numpy son estáticos, esto significa que una vez que se crea un array, no se puede modificar su tamaño. Esto permite a Numpy reservar la memoria necesaria para el array en bloques contíguos de memoria, que hace que sea más eficiente acceder y modificar los elementos del array. Las listas de Python por el contrario, son dinámicas, lo que significa que pueden crecer o reducirse de tamaño dinámicamente, lo que hace que sean más lentas que los arrays de Numpy.\n",
    "\n",
    "3. Los arrays de Numpy se integran de forma muy sencillacon el resto de librerías de Python, como Pandas, Matplotlib, Scikit-Learn, etc. que son ampliamente utilizadas en el mundo de la ciencia de datos y el aprendizaje automático. Esto nos permite crear potentes flujos de trabajo de forma muy sencilla, donde los arrays de Numpy son facilmente convertidos en Dataframes de Pandas on ser pintados con Matplotlib."
   ]
  },
  {
   "cell_type": "code",
   "execution_count": 1,
   "metadata": {},
   "outputs": [],
   "source": [
    "import numpy as np"
   ]
  },
  {
   "cell_type": "code",
   "execution_count": 2,
   "metadata": {},
   "outputs": [
    {
     "name": "stdout",
     "output_type": "stream",
     "text": [
      "[1 2 3 4 5]\n"
     ]
    }
   ],
   "source": [
    "# Crea un nuevo array de 5\n",
    "a = np.array([1, 2, 3, 4, 5])\n",
    "print(a)"
   ]
  },
  {
   "cell_type": "markdown",
   "metadata": {},
   "source": [
    "Hemos creado un array a partir de una lista de Python.\n",
    "\n",
    "Podemos observar que el tipo de datos de la array es ndarray (N-dimensional array), que es el tipo de datos de las arrays de Numpy."
   ]
  },
  {
   "cell_type": "code",
   "execution_count": null,
   "metadata": {},
   "outputs": [],
   "source": [
    "# imprime el tipo de dato del array"
   ]
  },
  {
   "cell_type": "code",
   "execution_count": null,
   "metadata": {},
   "outputs": [],
   "source": [
    "# Crear un array de 4 elementos de 2x2"
   ]
  },
  {
   "cell_type": "code",
   "execution_count": null,
   "metadata": {},
   "outputs": [],
   "source": [
    "# Crear un array de 6 elementos de 2x3"
   ]
  },
  {
   "cell_type": "code",
   "execution_count": null,
   "metadata": {},
   "outputs": [],
   "source": [
    "# Crear un array de 12 elementos de 2x3x2"
   ]
  },
  {
   "cell_type": "code",
   "execution_count": null,
   "metadata": {},
   "outputs": [],
   "source": [
    "# Obtener la dimensión de un array\n",
    "\n",
    "# Obtener la dimensión del array a\n",
    "\n",
    "# Obtener la dimensión del array b\n",
    "\n",
    "# Obtener la dimensión del array c\n",
    "\n",
    "# Obtener la dimensión del array d\n",
    "\n"
   ]
  },
  {
   "cell_type": "code",
   "execution_count": null,
   "metadata": {},
   "outputs": [],
   "source": [
    "# El shape de un array es una tupla que indica el tamaño de cada dimensión"
   ]
  },
  {
   "cell_type": "code",
   "execution_count": null,
   "metadata": {},
   "outputs": [],
   "source": [
    "# Obtener el tipo de dato de un array"
   ]
  },
  {
   "cell_type": "code",
   "execution_count": null,
   "metadata": {},
   "outputs": [],
   "source": [
    "# Representación de un byte en binario -> 1010\n",
    "\n",
    "# El tipo int16 puede representar un número entero de 16 bits (2 bytes)(-32.768 a 32.767)\n",
    "# El tipo int32 puede representar un número entero de 32 bits (4 bytes)(-2.147.483.648 a 2.147.483.647)\n",
    "# El tipo int64 puede representar un número entero de 64 bits (8 bytes)(-9.223.372.036.854.775.808 a 92.23.372.036.854.775.807)\n",
    "\n",
    "#El tipo float32 puede representar un número real de 32 bits (4 bytes)(-3.4028235e+38 a 3.4028235e+38)\n",
    "#El tipo float64 puede representar un número real de 64 bits (8 bytes)(-1.7976931348623157e+308 a 1.7976931348623157e+308)"
   ]
  },
  {
   "cell_type": "code",
   "execution_count": null,
   "metadata": {},
   "outputs": [],
   "source": []
  },
  {
   "cell_type": "code",
   "execution_count": null,
   "metadata": {},
   "outputs": [],
   "source": [
    "# Provocar un overflow"
   ]
  },
  {
   "cell_type": "markdown",
   "metadata": {},
   "source": [
    "Hay diversas formas de crear arrays de Numpy, a continuación vamos a ver algunas de ellas."
   ]
  },
  {
   "cell_type": "markdown",
   "metadata": {},
   "source": [
    "1. Usando la función np.array()"
   ]
  },
  {
   "cell_type": "code",
   "execution_count": null,
   "metadata": {},
   "outputs": [],
   "source": [
    "# Crea un nuevo array de 5 elementos de Numpy a partir de una lista."
   ]
  },
  {
   "cell_type": "code",
   "execution_count": null,
   "metadata": {},
   "outputs": [],
   "source": [
    "# Crear un array de numpy a partir de una lista de listas"
   ]
  },
  {
   "cell_type": "code",
   "execution_count": null,
   "metadata": {},
   "outputs": [],
   "source": [
    "# Crear un array de numpy a partir de un range\n",
    "\n",
    "# La funcio range() crea una lista de números enteros\n",
    "# Ejemplo:\n",
    "# lista_10 = range(10)\n",
    "# print(list(lista_10))\n",
    "\n",
    "# Crear un array de numpy a partir de un range"
   ]
  },
  {
   "cell_type": "code",
   "execution_count": null,
   "metadata": {},
   "outputs": [],
   "source": [
    "# Define un array 'd'  de dim 2x2x3 a partir de una lista de listas anidada"
   ]
  },
  {
   "cell_type": "markdown",
   "metadata": {},
   "source": [
    "La funcion np.array() también puede recibir otros tipos de datos como parámetro, como tuplas, etc. En este caso, la función convierte los datos en una lista de Python y crea una array a partir de esta lista."
   ]
  },
  {
   "cell_type": "code",
   "execution_count": null,
   "metadata": {},
   "outputs": [],
   "source": [
    "# define una array e a partir de un diccionario"
   ]
  },
  {
   "cell_type": "markdown",
   "metadata": {},
   "source": [
    "2. Usando las funciones np.zeros() o np.ones()"
   ]
  },
  {
   "cell_type": "code",
   "execution_count": null,
   "metadata": {},
   "outputs": [],
   "source": [
    "# Crea un nuevo array de ceros\n",
    "\n",
    "# Crea un nuevo array de ceros de 2x3\n",
    "\n",
    "# Crea un nuevo array de ceros 4,100,100\n",
    "\n",
    "# Create un nuevo array de unos\n",
    "\n",
    "# Crea un nuevo array de unos del tamaño de b\n",
    "\n",
    "# Crea un nuevo array de unos del tamaño de c\n"
   ]
  },
  {
   "cell_type": "code",
   "execution_count": null,
   "metadata": {},
   "outputs": [],
   "source": [
    "# Crear Arrays con un valor determinado\n",
    "\n",
    "# Crea un nuevo array de 10 elementos con valor 50\n",
    "\n",
    "\n",
    "# Crea un nuevo array de 2x3x4 elementos con valor 50\n"
   ]
  },
  {
   "cell_type": "code",
   "execution_count": null,
   "metadata": {},
   "outputs": [],
   "source": [
    "# Crea un array como el b pero con valor 100\n"
   ]
  },
  {
   "cell_type": "code",
   "execution_count": null,
   "metadata": {},
   "outputs": [],
   "source": [
    "# Matriz identidad: Es una matriz cuadrada con unos en la diagonal principal y ceros en el resto de elementos\n",
    "\n",
    "# otra forma de crear una matriz identidad\n"
   ]
  },
  {
   "cell_type": "code",
   "execution_count": null,
   "metadata": {},
   "outputs": [],
   "source": [
    "'''\n",
    "Define el array z de dim 1 completo de ceros\n",
    "'''\n",
    "\n",
    "'''\n",
    "Define un array z de dim 8x8 completo de ceros\n",
    "'''\n",
    "\n",
    "'''\n",
    "Define el array 'z' completo de ceros de n dim\n",
    "'''\n",
    "\n",
    "'''\n",
    "Define el array 'd' completo de unos de n dim\n",
    "'''\n",
    "\n",
    "'''\n",
    "Define un array como el que se muestra a continuación:\n",
    "[[0. 0. 0. 0. 0. 0. 0. 0.]\n",
    " [0. 1. 1. 1. 1. 1. 1. 0.]\n",
    " [0. 1. 1. 1. 1. 1. 1. 0.]\n",
    " [0. 1. 1. 1. 1. 1. 1. 0.]\n",
    " [0. 1. 1. 1. 1. 1. 1. 0.]\n",
    " [0. 1. 1. 1. 1. 1. 1. 0.]\n",
    " [0. 1. 1. 1. 1. 1. 1. 0.]\n",
    " [0. 0. 0. 0. 0. 0. 0. 0.]]\n",
    "'''\n",
    "\n",
    "\n",
    "'''\n",
    "Define un array 'g' conun range de 0 a 10 de dim 2\n",
    "'''\n",
    "\n",
    "'''\n",
    "Define un array 'h' con un range de 0 a 100 con un paso de 5 y una dim difrente de 1\n",
    "'''\n"
   ]
  },
  {
   "cell_type": "markdown",
   "metadata": {},
   "source": [
    "3. Usando las funciones np.random.rand() o np.random.randn()"
   ]
  },
  {
   "cell_type": "code",
   "execution_count": null,
   "metadata": {},
   "outputs": [],
   "source": [
    "# Crea un nuevo array de 10 elementos aleatorios\n",
    "\n",
    "\n",
    "# crear una array de 15 elementos aleatorios enteros entre 0 y 10\n",
    "\n",
    "\n",
    "# crear una array de 15 elementos aleatorios float entre 0 y 10\n",
    "\n"
   ]
  },
  {
   "cell_type": "code",
   "execution_count": null,
   "metadata": {},
   "outputs": [],
   "source": []
  },
  {
   "cell_type": "code",
   "execution_count": null,
   "metadata": {},
   "outputs": [],
   "source": [
    "# Crea un nuevo array de 10 elementos siguiendo una distribución normal (Gaussiana)\n",
    "\n",
    "\n",
    "# plot the histogram\n"
   ]
  },
  {
   "cell_type": "markdown",
   "metadata": {},
   "source": [
    "Las funciones `np.random.rand()` y `np.random.randn()` de Numpy se utilizan para generar matrices de valores aleatorios, pero difieren en la distribución de los valores generados.\n",
    "\n",
    "La función `np.random.rand()` genera valores aleatorios a partir de una distribución uniforme, lo que significa que todos los valores en el rango entre 0 y 1 tienen la misma probabilidad de ser generados. Esto puede ser útil para generar datos aleatorios para simulaciones o pruebas donde todos los valores en un rango dado son igualmente probables.\n",
    "\n",
    "La función `np.random.randn()`, por otro lado, genera valores aleatorios a partir de una distribución normal, que es una distribución en forma de campana que se utiliza a menudo en estadística y análisis de datos. Esto significa que es más probable que los valores generados estén cerca de la media de la distribución y menos probable que sean valores extremos. Esto puede ser útil para generar datos aleatorios que sigan una distribución del mundo real, como los datos de un proceso gaussiano.\n",
    "\n",
    "En general, la elección entre `np.random.rand()` y `np.random.randn()` depende de las necesidades y requisitos específicos de su aplicación. Si necesita valores aleatorios de una distribución uniforme, puede utilizar np.random.rand(), y si necesita valores aleatorios de una distribución normal, puede utilizar np.random.randn()."
   ]
  },
  {
   "cell_type": "markdown",
   "metadata": {},
   "source": [
    "4. Usando las funciones np.arange() o np.linspace(): Estas funciones le permiten crear nuevas matrices que contengan una serie de valores espaciados uniformemente. Esto puede ser útil para crear matrices de valores para trazar o otros fines."
   ]
  },
  {
   "cell_type": "code",
   "execution_count": null,
   "metadata": {},
   "outputs": [],
   "source": [
    "# Crea un nuevo array de valores espaciados uniformemente\n",
    "\n",
    "\n",
    "\n",
    "# Crea un nuevo array de valores espaciados uniformemente\n",
    "\n",
    "\n",
    "# Para no mostrar decimales raros podemos usar la función arange y especificar el número paso.\n"
   ]
  },
  {
   "cell_type": "markdown",
   "metadata": {},
   "source": [
    "Ejercicios"
   ]
  },
  {
   "cell_type": "code",
   "execution_count": null,
   "metadata": {},
   "outputs": [],
   "source": [
    "# Crea un nuevo array de Numpy que contiene los valores 1, 2, 3, 4, 5.\n"
   ]
  },
  {
   "cell_type": "code",
   "execution_count": null,
   "metadata": {},
   "outputs": [],
   "source": [
    "# Crea un nuevo array de ceros con forma (5, 5).\n"
   ]
  },
  {
   "cell_type": "code",
   "execution_count": null,
   "metadata": {},
   "outputs": [],
   "source": [
    "# Crea un nuevo array de valores aleatorios de una distribución uniforme con forma (4, 4).\n"
   ]
  },
  {
   "cell_type": "code",
   "execution_count": null,
   "metadata": {},
   "outputs": [],
   "source": [
    "# Crea un nuevo array de valores espaciados uniformemente entre 0 y 1 con 100 elementos.\n"
   ]
  },
  {
   "cell_type": "code",
   "execution_count": null,
   "metadata": {},
   "outputs": [],
   "source": [
    "# Crea un nuevo array que contiene los valores 1, 2, 3, 4, 5, 6 reorganizados en una matriz 2x3.\n"
   ]
  },
  {
   "cell_type": "code",
   "execution_count": null,
   "metadata": {},
   "outputs": [],
   "source": [
    "# Crea un nuevo array de ceros con forma (2, 2, 2, 2).\n"
   ]
  },
  {
   "cell_type": "code",
   "execution_count": null,
   "metadata": {},
   "outputs": [],
   "source": [
    "#Crea un nuevo array de valores aleatorios de una distribución normal con forma (3, 3, 3).\n"
   ]
  },
  {
   "cell_type": "code",
   "execution_count": null,
   "metadata": {},
   "outputs": [],
   "source": [
    "# Crea un nuevo array de valores espaciados uniformemente entre -10 y 10 con 10 elementos.\n"
   ]
  },
  {
   "cell_type": "markdown",
   "metadata": {},
   "source": [
    "## Accediendo y modificando elementos de una array"
   ]
  },
  {
   "cell_type": "markdown",
   "metadata": {},
   "source": [
    "Para acceder y modificar los elementos de un array de Numpy podemos utiliza el indice para especificar la posición del elemento que queremos acceder o modificar, tal y como hacemos con las listas de Python."
   ]
  },
  {
   "cell_type": "code",
   "execution_count": null,
   "metadata": {},
   "outputs": [],
   "source": [
    "# Crea un array de 1 dimensión con los valores 1, 2, 3, 4, 5\n",
    "\n",
    "# Accede al primer elemento del array\n",
    "\n",
    "# Accede al último elemento del array\n"
   ]
  },
  {
   "cell_type": "markdown",
   "metadata": {},
   "source": [
    "Para acceder a un subset de elementos del array, podemos especificar un rango de indices, utilizando la sintaxis estandar de las listas de Python."
   ]
  },
  {
   "cell_type": "code",
   "execution_count": null,
   "metadata": {},
   "outputs": [],
   "source": [
    "# Crea un array de 1 dimensión con los valores 1, 2, 3, 4, 5\n",
    "\n",
    "\n",
    "# Accede a las tres primeras posiciones del array\n",
    "\n",
    "\n",
    "# Otra forma de acceder a las tres primeras posiciones del array\n",
    "\n",
    "\n",
    "# otra forma de acceder a las tres primeras posiciones del array\n",
    "\n"
   ]
  },
  {
   "cell_type": "markdown",
   "metadata": {},
   "source": [
    "Para aceder a elementos arbitrarios de un array, podemos utilizar una lista de indices, utilizando la sintaxis estandar de las listas de Python."
   ]
  },
  {
   "cell_type": "code",
   "execution_count": null,
   "metadata": {},
   "outputs": [],
   "source": [
    "# Create un nuevo array de 1 dimensión con los valores 10, 20, 30, 40, 50\n",
    "\n",
    "# Accede a los indices 0, 2, 4 del array\n",
    "\n"
   ]
  },
  {
   "cell_type": "markdown",
   "metadata": {},
   "source": [
    "Para modificar los valores de una array, podemos utilizar la asignación y operaciones para cambiar los valores de los elementos seleccionados. Por ejemplo, para establecer el valor de un solo elemento a un nuevo valor, podemos utilizar la asignación:"
   ]
  },
  {
   "cell_type": "code",
   "execution_count": null,
   "metadata": {},
   "outputs": [],
   "source": [
    "# Crea un nuevo array\n",
    "\n",
    "# Establece el valor del primer elemento a 10\n"
   ]
  },
  {
   "cell_type": "markdown",
   "metadata": {},
   "source": [
    "Para modificar los valores de múltiples elementos a la vez, puede usar operaciones y asignación:"
   ]
  },
  {
   "cell_type": "code",
   "execution_count": null,
   "metadata": {},
   "outputs": [],
   "source": [
    "# Crea un nuevo array\n",
    "\n",
    "# Multiplica los valores de los primeros tres elementos por 2 y asigna el resultado al array\n"
   ]
  },
  {
   "cell_type": "markdown",
   "metadata": {},
   "source": [
    "#### Slicing"
   ]
  },
  {
   "cell_type": "markdown",
   "metadata": {},
   "source": [
    "Esto permite seleccionar un subconjunto contiguo de elementos de una matriz, utilizando la sintaxis `start: stop: step` para especificar el rango de valores a incluir y el stride (es decir, el número de elementos a omitir entre valores consecutivos)."
   ]
  },
  {
   "cell_type": "code",
   "execution_count": null,
   "metadata": {},
   "outputs": [],
   "source": [
    "# Create a new Numpy array\n",
    "\n",
    "\n",
    "# Accede a los elementos 2,4,6,8 del array\n",
    "\n",
    "# Start:start:step: start si que es incluido, stop no es incluido, step es el paso\n",
    "\n",
    "# Selecciona los elementos intercalados del array\n"
   ]
  },
  {
   "cell_type": "code",
   "execution_count": null,
   "metadata": {},
   "outputs": [],
   "source": [
    "# crea un array de 4x6\n",
    "a = np.array(range(24))\n",
    "print(a, a.shape)\n",
    "\n",
    "reshaped_a = a.reshape(4,6)\n",
    "print(reshaped_a, reshaped_a.shape)\n",
    "\n",
    "reshaped_a = a.reshape(2,3,4)\n",
    "print(reshaped_a, reshaped_a.shape)\n",
    "\n"
   ]
  },
  {
   "cell_type": "code",
   "execution_count": null,
   "metadata": {},
   "outputs": [],
   "source": [
    "# Define una matriz de 3x3x2\n",
    "\n",
    "# Selecciona la primera fila de la segunda matriz\n",
    "\n",
    "\n",
    "# Selecciona la segunda matriz completa\n",
    "\n",
    "\n",
    "# selcciona la segunda fila de todas las matrices\n"
   ]
  },
  {
   "cell_type": "markdown",
   "metadata": {},
   "source": [
    "## Ejercicios"
   ]
  },
  {
   "cell_type": "code",
   "execution_count": null,
   "metadata": {},
   "outputs": [],
   "source": [
    "'''\n",
    "Crea un nuevo array de Numpy que contiene los valores 1, 2, 3, 4, 5, y accede al primer y último elemento del array.\n",
    "'''\n"
   ]
  },
  {
   "cell_type": "code",
   "execution_count": null,
   "metadata": {},
   "outputs": [],
   "source": [
    "'''\n",
    "Crea un nuevo array de valores aleatorios entre 0-9 con forma (10, 10), y accede a los cuatro elementos centrales de la quinta fila del array.\n",
    "'''\n"
   ]
  },
  {
   "cell_type": "code",
   "execution_count": null,
   "metadata": {},
   "outputs": [],
   "source": [
    "'''\n",
    "Crea un nuevo array de valores espaciados uniformemente entre 0 y 50 con 100 elementos, y los elementos intercalados del array.\n",
    "'''\n"
   ]
  },
  {
   "cell_type": "code",
   "execution_count": null,
   "metadata": {},
   "outputs": [],
   "source": [
    "'''\n",
    "Crea un nuevo array que contiene los valores 1, 2, 3, 4, 5, y usa la indexación basada en Booleanos para seleccionar solo los elementos del array que son mayores que 3.\n",
    "'''\n"
   ]
  },
  {
   "cell_type": "code",
   "execution_count": null,
   "metadata": {},
   "outputs": [],
   "source": [
    "'''\n",
    "Crea un nuevo array de ceros con forma (5, 5), y usa la indexación basada en enteros para establecer el valor del elemento central del array a 1.\n",
    "'''\n"
   ]
  },
  {
   "cell_type": "code",
   "execution_count": null,
   "metadata": {},
   "outputs": [],
   "source": [
    "'''\n",
    "Crea un nuevo array de Numpy que contiene los valores 1, 2, 3, 4, 5, y establece el valor del segundo elemento del array a 10.\n",
    "'''\n"
   ]
  },
  {
   "cell_type": "code",
   "execution_count": null,
   "metadata": {},
   "outputs": [],
   "source": [
    "'''\n",
    "Crea un nuevo array de valores aleatorios entre 0-9 con forma (9, 9), y usa la asignación para establecer el valor del elemento central del array a 999.\n",
    "'''\n"
   ]
  },
  {
   "cell_type": "code",
   "execution_count": null,
   "metadata": {},
   "outputs": [],
   "source": [
    "'''\n",
    "Crea un nuevo array de valores espaciados uniformemente entre 0 y 1 con 100 elementos, y usa la indexación y operaciones para multiplicar los valores de los primeros 50 elementos por 0.\n",
    "'''\n"
   ]
  },
  {
   "cell_type": "code",
   "execution_count": null,
   "metadata": {},
   "outputs": [],
   "source": [
    "'''\n",
    "Crea un nuevo array que contiene los valores 1, 2, 3, 4, 5, y usa la indexación basada en Booleanos y operaciones para sumar 1 a los elementos del array que son menores o iguales a 3.\n",
    "'''\n"
   ]
  },
  {
   "cell_type": "code",
   "execution_count": null,
   "metadata": {},
   "outputs": [],
   "source": [
    "'''\n",
    "Crea un nuevo array de ceros con forma (5, 5), y usa la indexación basada en enteros y operaciones para sumar 1 a los valores de la diagonal del array (es decir, los elementos con índices (0, 0), (1, 1), (2, 2), etc.).\n",
    "'''\n",
    "\n"
   ]
  },
  {
   "cell_type": "markdown",
   "metadata": {},
   "source": [
    "## Operaciones con Arrays"
   ]
  },
  {
   "cell_type": "markdown",
   "metadata": {},
   "source": [
    "Numpy arrays soporta una amplia gama de operaciones matemáticas y estadísticas para realizar cálculos sobre los arrays. Algunas de estas operaciones son:"
   ]
  },
  {
   "cell_type": "markdown",
   "metadata": {},
   "source": [
    "1. Operaciones elemento a elemento: Estas operaciones aplican una operación dada a cada elemento de una matriz y devuelven una nueva matriz que contiene los resultados. Por ejemplo, la adición y la sustracción elemento a elemento se pueden realizar utilizando los operadores + y -, respectivamente, y la multiplicación y división elemento a elemento se pueden realizar utilizando los operadores * y /, respectivamente."
   ]
  },
  {
   "cell_type": "code",
   "execution_count": null,
   "metadata": {},
   "outputs": [],
   "source": [
    "# Crea dos Numpy arrays\n",
    "\n",
    "\n",
    "# Suma los dos arrays\n",
    "\n"
   ]
  },
  {
   "cell_type": "code",
   "execution_count": null,
   "metadata": {},
   "outputs": [],
   "source": [
    "# Crea dos Numpy arrays\n",
    "\n",
    "\n",
    "# Realiza la resta de los dos arrays\n"
   ]
  },
  {
   "cell_type": "code",
   "execution_count": null,
   "metadata": {},
   "outputs": [],
   "source": [
    "# Que ocurre si intentamos sumar dos arrays de distinto tamaño?\n",
    "\n",
    "# Realiza la suma de los dos arrays\n"
   ]
  },
  {
   "cell_type": "code",
   "execution_count": null,
   "metadata": {},
   "outputs": [],
   "source": [
    "# No es necesario que los arrays tengan la misma forma, pero si que sean shapes compatibles.\n",
    "\n"
   ]
  },
  {
   "cell_type": "markdown",
   "metadata": {},
   "source": [
    "2. Operaciones de agregación: Estas operaciones calculan una estadística de resumen para una matriz, como la suma, la media o la desviación estándar, y devuelven un valor escalar. Por ejemplo, puede usar las funciones np.sum() y np.mean() para calcular la suma y la media de una matriz, respectivamente."
   ]
  },
  {
   "cell_type": "code",
   "execution_count": null,
   "metadata": {},
   "outputs": [],
   "source": [
    "# Crea un Numpy array\n",
    "\n",
    "# Calcula la suma de todos los elementos del array\n",
    "\n"
   ]
  },
  {
   "cell_type": "code",
   "execution_count": null,
   "metadata": {},
   "outputs": [],
   "source": [
    "# Crea un Numpy array\n",
    "\n",
    "# Calcula la media de todos los elementos del array\n"
   ]
  },
  {
   "cell_type": "code",
   "execution_count": null,
   "metadata": {},
   "outputs": [],
   "source": [
    "# Crea un Numpy array\n",
    "\n",
    "# Calcula la desviación estándar de todos los elementos del array\n",
    "\n"
   ]
  },
  {
   "cell_type": "markdown",
   "metadata": {},
   "source": [
    "Hay muchas otras funciones de agregación disponibles en Numpy, como np.min() y np.max() para calcular los valores mínimo y máximo de una matriz, respectivamente. Algunas de estas son:\n",
    "- np.sum(): Suma de todos los elementos de la matriz.\n",
    "- np.prod(): Producto de todos los elementos de la matriz.\n",
    "- np.mean(): Media de todos los elementos de la matriz.\n",
    "- np.std(): Desviación estándar de todos los elementos de la matriz.\n",
    "- np.var(): Varianza de todos los elementos de la matriz.\n",
    "- np.min(): Valor mínimo de todos los elementos de la matriz.\n",
    "- np.max(): Valor máximo de todos los elementos de la matriz.\n",
    "- np.argmin(): Índice del valor mínimo de todos los elementos de la matriz.\n",
    "- np.argmax(): Índice del valor máximo de todos los elementos de la matriz.\n",
    "- np.median(): Mediana de todos los elementos de la matriz.\n",
    "\n",
    "entre otras..."
   ]
  },
  {
   "cell_type": "markdown",
   "metadata": {},
   "source": [
    "3. Broadcasting: Esto se refiere a la capacidad de Numpy de aplicar automáticamente operaciones a matrices de diferentes formas, siempre que las formas sean compatibles."
   ]
  },
  {
   "cell_type": "code",
   "execution_count": null,
   "metadata": {},
   "outputs": [],
   "source": [
    "# Crea un array de 10 elementos, y multiplica cada elemento por 2\n"
   ]
  },
  {
   "cell_type": "code",
   "execution_count": null,
   "metadata": {},
   "outputs": [],
   "source": [
    "# Crea un array de 6 elementos de forma (2, 3)\n",
    "\n",
    "\n",
    "# Crea un array de 3 elementos\n",
    "\n",
    "\n",
    "# multiplica ambos arrays\n"
   ]
  },
  {
   "cell_type": "code",
   "execution_count": null,
   "metadata": {},
   "outputs": [],
   "source": [
    "# Crea un array de 3x2x4\n",
    "\n",
    "\n",
    "# Suma 100 a todos los elementos del array\n"
   ]
  },
  {
   "cell_type": "markdown",
   "metadata": {},
   "source": [
    "4. Operaciones de álgebra lineal: Numpy incluye una serie de funciones y métodos para realizar operaciones de álgebra lineal en matrices, como multiplicación de matrices, determinantes y resolución de ecuaciones lineales. Por ejemplo, puede usar la función np.dot() para calcular el producto escalar de dos matrices, o la función np.linalg.solve() para resolver un sistema de ecuaciones lineales representado por una matriz."
   ]
  },
  {
   "cell_type": "code",
   "execution_count": null,
   "metadata": {},
   "outputs": [],
   "source": [
    "# Define dos matrices\n",
    "\n",
    "# Realiza la multiplicación de matrices\n"
   ]
  },
  {
   "cell_type": "code",
   "execution_count": null,
   "metadata": {},
   "outputs": [],
   "source": [
    "# Define una matriz\n",
    "\n",
    "# Calcula el determinante de la matriz\n",
    "\n",
    "\n",
    "# Define la matriz indentidad\n",
    "\n",
    "\n",
    "# Calcula el determinante de la matriz\n"
   ]
  },
  {
   "cell_type": "code",
   "execution_count": null,
   "metadata": {},
   "outputs": [],
   "source": [
    "# Define los coeficientes de la ecuación lineal\n",
    "\n",
    "\n",
    "# resuelve el sistema de ecuaciones\n"
   ]
  },
  {
   "cell_type": "code",
   "execution_count": null,
   "metadata": {},
   "outputs": [],
   "source": [
    "'''\n",
    "Crea un nuevo array de Numpy que contiene los valores 1, 2, 3, 4, 5, y calcula la multiplicacion de todos los \n",
    "elementos del array.\n",
    "'''\n",
    "\n"
   ]
  },
  {
   "cell_type": "code",
   "execution_count": null,
   "metadata": {},
   "outputs": [],
   "source": [
    "'''\n",
    "Crea un nuevo array de valores aleatorios de una distribución uniforme de números enteros con forma (10, 10), y calcula \n",
    "la media de los elementos de la primera fila del array.\n",
    "'''\n",
    "\n"
   ]
  },
  {
   "cell_type": "code",
   "execution_count": null,
   "metadata": {},
   "outputs": [],
   "source": [
    "'''\n",
    "Crea un nuevo array que contiene los valores 1, 2, 3, 4, 5, y usa la indexación basada en Booleanos \n",
    "para calcular la suma de solo los elementos del array que son mayores que 3.  \n",
    "'''\n",
    "\n"
   ]
  },
  {
   "cell_type": "code",
   "execution_count": null,
   "metadata": {},
   "outputs": [],
   "source": [
    "'''\n",
    "Crea un nuevo array de unos con forma (5, 5), y usa la indexación basada en enteros para calcular la suma\n",
    "de los valores de la diagonal del array (es decir, los elementos con índices (0, 0), (1, 1), (2, 2), etc.).\n",
    "'''\n",
    "\n"
   ]
  },
  {
   "cell_type": "code",
   "execution_count": null,
   "metadata": {},
   "outputs": [],
   "source": [
    "'''\n",
    "\n",
    "Crea dos nuevos arrays de Numpy, x e y, que contienen los valores 1, 2, 3 y 4, 5, 6, respectivamente, \n",
    "y calcula el producto elemento a elemento de x e y.\n",
    "'''\n",
    "\n"
   ]
  },
  {
   "cell_type": "code",
   "execution_count": null,
   "metadata": {},
   "outputs": [],
   "source": [
    "'''\n",
    "Crea un nuevo array de valores aleatorios de una distribución uniforme con forma (10, 10), y \n",
    "usa el broadcasting para sumar 1 a todos los elementos del array.\n",
    "'''\n",
    "\n",
    "\n"
   ]
  },
  {
   "cell_type": "code",
   "execution_count": null,
   "metadata": {},
   "outputs": [],
   "source": [
    "'''\n",
    "Crea un nuevo array de valores espaciados uniformemente entre 0 y 1 con 100 elementos, y usa \n",
    "el broadcasting establecer los valores de los últimos 50 elementos a 0.\n",
    "'''\n",
    "\n"
   ]
  },
  {
   "cell_type": "code",
   "execution_count": null,
   "metadata": {},
   "outputs": [],
   "source": [
    "'''\n",
    "Crea un nuevo array que contiene los valores 1, 2, 3, 4, 5, y usa la indexación basada en \n",
    "Booleanos y el broadcasting para dividir todos los elementos del array que son menores \n",
    "o iguales que 3 entre 2.\n",
    "'''\n"
   ]
  },
  {
   "cell_type": "code",
   "execution_count": null,
   "metadata": {},
   "outputs": [],
   "source": [
    "'''\n",
    "Crea un nuevo array de ceros con forma (5, 5), y usa la indexación basada en enteros y el broadcasting \n",
    "para sumar los valores 1, 2, 3, 4, 5 a las filas del array en orden (es decir, suma 1 a la primera fila,\n",
    " 2 a la segunda fila, etc.).\n",
    "'''\n"
   ]
  }
 ],
 "metadata": {
  "kernelspec": {
   "display_name": "Python 3 (ipykernel)",
   "language": "python",
   "name": "python3"
  },
  "language_info": {
   "codemirror_mode": {
    "name": "ipython",
    "version": 3
   },
   "file_extension": ".py",
   "mimetype": "text/x-python",
   "name": "python",
   "nbconvert_exporter": "python",
   "pygments_lexer": "ipython3",
   "version": "3.10.11"
  },
  "vscode": {
   "interpreter": {
    "hash": "916dbcbb3f70747c44a77c7bcd40155683ae19c65e1c03b4aa3499c5328201f1"
   }
  }
 },
 "nbformat": 4,
 "nbformat_minor": 2
}
